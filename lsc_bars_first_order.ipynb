{
 "cells": [
  {
   "cell_type": "code",
   "execution_count": 7,
   "metadata": {},
   "outputs": [],
   "source": [
    "import torch\n",
    "import torchvision\n",
    "import numpy as np\n",
    "import matplotlib.pyplot as plt\n",
    "import matplotlib.cm as cm\n",
    "from tqdm import tqdm\n",
    "\n",
    "from lsc import LangevinSparseCoding"
   ]
  },
  {
   "cell_type": "code",
   "execution_count": 8,
   "metadata": {},
   "outputs": [],
   "source": [
    "patch_size = 4\n",
    "n_features = patch_size**2\n",
    "n_latent = 2*patch_size\n",
    "sparsity_penalty = 1.0\n",
    "temperature = 1\n",
    "dt = 0.1"
   ]
  },
  {
   "cell_type": "code",
   "execution_count": 14,
   "metadata": {},
   "outputs": [],
   "source": [
    "def generate_bars_basis(patch_size:int=12):\n",
    "    basis_images = np.zeros([2*patch_size,patch_size,patch_size])\n",
    "    for i in range(patch_size):\n",
    "        basis_images[i,i,:] = 1\n",
    "        \n",
    "    for i in range(patch_size):\n",
    "        basis_images[i+patch_size,:,i] = 1\n",
    "        \n",
    "    return basis_images.reshape([2*patch_size,patch_size**2]).T\n",
    "\n",
    "def plot_dictionary(dictionary, color=False, nrow=30, normalize=True,\n",
    "                    scale_each=True, fig=None, ax=None, title=\"\", size=8):\n",
    "    \"\"\"Plot all elements of dictionary in grid\n",
    "    Parameters\n",
    "    ----------\n",
    "    dictionary : array-like, shape [n_features, n_basis]\n",
    "        Dictionary\n",
    "    color : bool, default=False\n",
    "        Set True if dictionary 3 channel (color)\n",
    "    nrow : int, default=30\n",
    "        Number of dictionary elements in a row\n",
    "    normalize : bool, default=True\n",
    "        Normalize to [0,1] (see https://pytorch.org/vision/main/generated/torchvision.utils.make_grid.html)\n",
    "    scale_each : bool, default=True\n",
    "        Scale each element to [0,1] (see https://pytorch.org/vision/main/generated/torchvision.utils.make_grid.html)\n",
    "    fig : matplotlib.pyplot figure handle, optional\n",
    "        If not provided, new handle created and returned\n",
    "    ax : matplotlib.pyplot axes handle, optional\n",
    "        If not provided, new handle created and returned\n",
    "    title : str, optional\n",
    "        Title of plot\n",
    "    size : float, default=8\n",
    "        Plot size (inches)\n",
    "    Returns\n",
    "    -------\n",
    "    fig : matplotlib.pyplot figure handle\n",
    "    ax : matplotlib.pyplot axes handle\n",
    "    \"\"\"\n",
    "\n",
    "    n_features, n_basis = dictionary.shape\n",
    "\n",
    "    nch = 1\n",
    "    if color:\n",
    "        nch = 3\n",
    "\n",
    "    patch_size = int(np.sqrt(n_features//nch))\n",
    "\n",
    "    D_imgs = dictionary.T.reshape([n_basis, patch_size, patch_size, nch]).permute([\n",
    "        0, 3, 1, 2])  # swap channel dims for torch\n",
    "    grid_img = torchvision.utils.make_grid(\n",
    "        D_imgs, nrow=nrow, normalize=normalize, scale_each=scale_each).cpu()\n",
    "\n",
    "    if fig is None or ax is None:\n",
    "        fig, ax = plt.subplots(1, 1, figsize=(size, size))\n",
    "\n",
    "    ax.clear()\n",
    "    ax.set_title(title)\n",
    "    ax.imshow(grid_img.permute(1, 2, 0))  # swap channel dims for matplotlib\n",
    "    ax.set_axis_off()\n",
    "    fig.set_size_inches(size, size)\n",
    "    fig.canvas.draw()\n",
    "    return fig, ax"
   ]
  },
  {
   "cell_type": "code",
   "execution_count": 15,
   "metadata": {},
   "outputs": [
    {
     "data": {
      "text/plain": [
       "(<Figure size 800x800 with 1 Axes>, <Axes: >)"
      ]
     },
     "execution_count": 15,
     "metadata": {},
     "output_type": "execute_result"
    },
    {
     "data": {
      "image/png": "[encoded data removed]",
      "text/plain": [
       "<Figure size 800x800 with 1 Axes>"
      ]
     },
     "metadata": {},
     "output_type": "display_data"
    }
   ],
   "source": [
    "A = torch.FloatTensor(generate_bars_basis(patch_size=patch_size))\n",
    "plot_dictionary(A,nrow=4)"
   ]
  },
  {
   "cell_type": "code",
   "execution_count": 26,
   "metadata": {},
   "outputs": [
    {
     "data": {
      "text/plain": [
       "Text(0.5, 1.0, 'generated image')"
      ]
     },
     "execution_count": 26,
     "metadata": {},
     "output_type": "execute_result"
    },
    {
     "data": {
      "image/png": "[encoded data removed]",
      "text/plain": [
       "<Figure size 400x400 with 1 Axes>"
      ]
     },
     "metadata": {},
     "output_type": "display_data"
    }
   ],
   "source": [
    "C = lambda s: s.abs().sum()\n",
    "Cprime = lambda s: torch.sign(s)\n",
    "\n",
    "lsc = LangevinSparseCoding(\n",
    "    n_features=n_features,\n",
    "    n_latent=n_latent,\n",
    "    sparsity_penaly=sparsity_penalty,\n",
    "    temperature=temperature,\n",
    "    dt=dt,\n",
    "    cost_function=C,\n",
    "    cost_function_grad=Cprime\n",
    ")\n",
    "\n",
    "lsc.A = A\n",
    "s_star = torch.zeros([n_latent,],dtype=torch.float)\n",
    "s_star[2] = 1\n",
    "\n",
    "NOISE_MEAN, NOISE_VARIANCE = 0 , 0.1\n",
    "x = lsc.A@s_star + np.random.normal(NOISE_MEAN, NOISE_VARIANCE) # Additive Gaussian Noise\n",
    "\n",
    "fig,ax = plt.subplots(figsize=(4,4))\n",
    "ax.imshow(x.reshape(patch_size,patch_size),'gray',vmin=0,vmax=1)\n",
    "ax.set_axis_off()\n",
    "ax.set_title('generated image')"
   ]
  },
  {
   "cell_type": "code",
   "execution_count": 30,
   "metadata": {},
   "outputs": [
    {
     "name": "stderr",
     "output_type": "stream",
     "text": [
      "100%|██████████| 100000/100000 [00:03<00:00, 27521.97it/s]\n",
      "100%|██████████| 100000/100000 [00:03<00:00, 27973.56it/s]\n"
     ]
    }
   ],
   "source": [
    "tmax = int(1e5)\n",
    "\n",
    "s_inference = torch.ones_like(s_star) #Change to L0\n",
    "# s_inference = th.zeros_like(s) #Change to L0\n",
    "energies = []\n",
    "S = []\n",
    "S.append(s_inference.data.numpy().copy())\n",
    "for n in tqdm(range(tmax)):\n",
    "\n",
    "    energies.append(lsc.energy(x,s_inference).item())\n",
    "    s_inference += torch.clone(lsc.first_order_langevin_update(x,s_inference))\n",
    "    S.append(s_inference.data.numpy().copy())\n",
    "S = np.asarray(S)\n",
    "s_bar = S.mean(axis=0)\n",
    "energies = np.asarray(energies)\n",
    "\n",
    "lsc.set_temperature(0.) # set temperature to zero to get map estimate \n",
    "s_inference = torch.ones_like(s_star) #Change to L0\n",
    "# s_inference = th.zeros_like(s) #Change to L0\n",
    "energies = []\n",
    "S = []\n",
    "S.append(s_inference.data.numpy().copy())\n",
    "for n in tqdm(range(tmax)):\n",
    "\n",
    "    energies.append(lsc.energy(x,s_inference).item())\n",
    "    s_inference += torch.clone(lsc.first_order_langevin_update(x,s_inference))\n",
    "    S.append(s_inference.data.numpy().copy())\n",
    "S = np.asarray(S)\n",
    "s_map = S[-1,:]\n",
    "energies = np.asarray(energies)\n",
    "\n",
    "lsc.set_temperature(temperature)"
   ]
  },
  {
   "cell_type": "code",
   "execution_count": 35,
   "metadata": {},
   "outputs": [
    {
     "data": {
      "text/plain": [
       "Text(0.5, 1.0, '${s}_{MAP}$ image')"
      ]
     },
     "execution_count": 35,
     "metadata": {},
     "output_type": "execute_result"
    },
    {
     "data": {
      "image/png": "[encoded data removed]",
      "text/plain": [
       "<Figure size 900x300 with 3 Axes>"
      ]
     },
     "metadata": {},
     "output_type": "display_data"
    }
   ],
   "source": [
    "x_bar = lsc.A@s_bar\n",
    "x_map = lsc.A@s_map\n",
    "\n",
    "fig,axs = plt.subplots(1,3,figsize=(9,3))\n",
    "ax = axs[0]\n",
    "ax.imshow(x.reshape(patch_size,patch_size),'gray',vmin=0,vmax=1)\n",
    "ax.set_axis_off()\n",
    "ax.set_title('generated image')\n",
    "\n",
    "ax = axs[1]\n",
    "ax.imshow(x_bar.reshape(patch_size,patch_size),'gray',vmin=0,vmax=1)\n",
    "ax.set_axis_off()\n",
    "ax.set_title(r'$\\bar{s}$ image')\n",
    "\n",
    "ax = axs[2]\n",
    "ax.imshow(x_map.reshape(patch_size,patch_size),'gray',vmin=0,vmax=1)\n",
    "ax.set_axis_off()\n",
    "ax.set_title(r'${s}_{MAP}$ image')"
   ]
  },
  {
   "cell_type": "markdown",
   "metadata": {},
   "source": []
  }
 ],
 "metadata": {
  "kernelspec": {
   "display_name": ".venv",
   "language": "python",
   "name": "python3"
  },
  "language_info": {
   "codemirror_mode": {
    "name": "ipython",
    "version": 3
   },
   "file_extension": ".py",
   "mimetype": "text/x-python",
   "name": "python",
   "nbconvert_exporter": "python",
   "pygments_lexer": "ipython3",
   "version": "3.10.9"
  },
  "orig_nbformat": 4
 },
 "nbformat": 4,
 "nbformat_minor": 2
}
