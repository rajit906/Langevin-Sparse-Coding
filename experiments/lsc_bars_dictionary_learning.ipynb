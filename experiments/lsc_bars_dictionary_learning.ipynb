{
  "cells": [
    {
      "cell_type": "code",
      "execution_count": 8,
      "metadata": {
        "id": "Bz9goSLVdtBX"
      },
      "outputs": [],
      "source": [
        "import torch\n",
        "import torchvision\n",
        "import numpy as np\n",
        "import matplotlib.pyplot as plt\n",
        "import matplotlib.cm as cm\n",
        "from tqdm import tqdm\n",
        "from lsc import LangevinSparseCoding\n",
        "from torch.utils.data import DataLoader\n",
        "\n",
        "from sparsecoding.visualization import plot_dictionary \n",
        "from sparsecoding.data.transforms.patch import sample_random_patches"
      ]
    },
    {
      "cell_type": "code",
      "execution_count": 9,
      "metadata": {},
      "outputs": [],
      "source": [
        "def generate_bars_basis(patch_size:int=12):\n",
        "    basis_images = np.zeros([2*patch_size,patch_size,patch_size])\n",
        "    for i in range(patch_size):\n",
        "        basis_images[i,i,:] = 1\n",
        "        \n",
        "    for i in range(patch_size):\n",
        "        basis_images[i+patch_size,:,i] = 1\n",
        "\n",
        "    dict = basis_images.reshape([2*patch_size,patch_size**2]).T\n",
        "    dict = dict/np.linalg.norm(dict,axis=0,keepdims=True)\n",
        "        \n",
        "    return dict"
      ]
    },
    {
      "cell_type": "code",
      "execution_count": 10,
      "metadata": {},
      "outputs": [],
      "source": [
        "patch_size = 4\n",
        "n_features = patch_size**2\n",
        "n_latent = 2*patch_size\n",
        "sparsity_penalty = 1.0\n",
        "var = 1/sparsity_penalty\n",
        "temperature = 1\n",
        "mass = 1\n",
        "NOISE_MEAN, NOISE_STD = 0 , 0.05\n",
        "\n",
        "dataset_size = int(5e4)\n",
        "batch_size = 500"
      ]
    },
    {
      "cell_type": "code",
      "execution_count": 11,
      "metadata": {
        "id": "2G54AVYsgHyY"
      },
      "outputs": [
        {
          "data": {
            "text/plain": [
              "Text(0.5, 1.0, 'Generated data\\n$\\\\lambda=1$; $\\\\sigma^2=5.0e-02$')"
            ]
          },
          "execution_count": 11,
          "metadata": {},
          "output_type": "execute_result"
        },
        {
          "data": {
            "image/png": "[encoded data removed]",
            "text/plain": [
              "<Figure size 300x300 with 1 Axes>"
            ]
          },
          "metadata": {},
          "output_type": "display_data"
        },
        {
          "data": {
            "image/png": "[encoded data removed]",
            "text/plain": [
              "<Figure size 300x300 with 1 Axes>"
            ]
          },
          "metadata": {},
          "output_type": "display_data"
        }
      ],
      "source": [
        "C = lambda s: s.abs().sum()\n",
        "Cprime = lambda s: torch.sign(s)\n",
        "\n",
        "Abars = torch.FloatTensor(generate_bars_basis(patch_size=patch_size))\n",
        "\n",
        "distribution = torch.distributions.Laplace(0.0, var)\n",
        "s_star = distribution.sample(sample_shape=[dataset_size,n_latent])\n",
        "x = (Abars@s_star.T).T + np.sqrt(NOISE_STD)*torch.FloatTensor(size=[dataset_size,n_features]).normal_()+NOISE_MEAN\n",
        "\n",
        "dl = DataLoader(\n",
        "    x,\n",
        "    batch_size=batch_size,\n",
        "    shuffle=True\n",
        ")\n",
        "\n",
        "fig,ax = plot_dictionary(Abars,nrow=4,size=3)\n",
        "ax.set_title('Bars dictionary')\n",
        "\n",
        "fig,ax = plot_dictionary(x[0:25,:].T,nrow=5,size=3,normalize=True,scale_each=True)\n",
        "ax.set_title('Generated data\\n$\\lambda=%.0f$; $\\sigma^2=%.1e$'%(sparsity_penalty,NOISE_STD))\n"
      ]
    },
    {
      "cell_type": "code",
      "execution_count": 12,
      "metadata": {
        "id": "KIvu9MOBL3VK"
      },
      "outputs": [],
      "source": [
        "def compute_map(x,lsc:LangevinSparseCoding,n_iterations:int):\n",
        "    batch_size = x.shape[0]\n",
        "    s_map = torch.zeros([batch_size,lsc.n_latent])\n",
        "\n",
        "    for n in (range(n_iterations)):\n",
        "        # warm start at map estimate\n",
        "        ds = lsc.dt*lsc.energy_grad(x,s_map)\n",
        "        s_map -= torch.clone(ds)\n",
        "    return s_map"
      ]
    },
    {
      "cell_type": "code",
      "execution_count": 28,
      "metadata": {},
      "outputs": [
        {
          "name": "stderr",
          "output_type": "stream",
          "text": [
            "100%|██████████| 40/40 [06:01<00:00,  9.05s/it]\n"
          ]
        }
      ],
      "source": [
        "n_epoch = int(40)\n",
        "n_samples = int(7e2)\n",
        "n_warm_start = int(3e2)\n",
        "\n",
        "dt = 1e-3\n",
        "dict_lr = 1e-3\n",
        "\n",
        "lsc = LangevinSparseCoding(\n",
        "    n_features=n_features,\n",
        "    n_latent=n_latent,\n",
        "    sparsity_penaly=sparsity_penalty,\n",
        "    temperature=temperature,\n",
        "    dt=dt,\n",
        "    cost_function=C,\n",
        "    cost_function_grad=Cprime,\n",
        "    mass=mass,\n",
        "    gauss_std=NOISE_STD,\n",
        ")\n",
        "# lsc.A = Abars\n",
        "e = []\n",
        "s_samples = torch.empty([batch_size, n_samples, n_latent])\n",
        "for i in tqdm(range(n_epoch)):\n",
        "    for batch in dl:\n",
        "        # compute map estimate as warm start\n",
        "        s_map = compute_map(batch,lsc,n_warm_start)\n",
        "\n",
        "        s = torch.clone(s_map)\n",
        "        v = torch.zeros_like(s_map) \n",
        "        # sample posterior\n",
        "        for n in range(n_samples):        \n",
        "            \n",
        "            # -- second order update --\n",
        "            ds,dv = lsc.second_order_langevin_update(batch,s,v)\n",
        "            s += torch.clone(ds)\n",
        "            v += torch.clone(dv)\n",
        "            s_samples[:,n,:] = torch.clone(s)\n",
        "        # update dictionary\n",
        "        dA = lsc.dictionary_grad(batch,s_samples.mean(dim=1))\n",
        "        # dA = lsc.dictionary_grad(batch,s_map)\n",
        "        lsc.A += dict_lr*dA\n",
        "        lsc.normalize_dictionary()\n",
        "        e.append(lsc.energy(batch,s_map).mean().item())\n"
      ]
    },
    {
      "cell_type": "code",
      "execution_count": 29,
      "metadata": {},
      "outputs": [
        {
          "data": {
            "text/plain": [
              "Text(0, 0.5, 'energy')"
            ]
          },
          "execution_count": 29,
          "metadata": {},
          "output_type": "execute_result"
        },
        {
          "data": {
            "image/png": "[encoded data removed]",
            "text/plain": [
              "<Figure size 300x300 with 1 Axes>"
            ]
          },
          "metadata": {},
          "output_type": "display_data"
        },
        {
          "data": {
            "image/png": "[encoded data removed]",
            "text/plain": [
              "<Figure size 300x300 with 1 Axes>"
            ]
          },
          "metadata": {},
          "output_type": "display_data"
        }
      ],
      "source": [
        "fig,ax = plot_dictionary(lsc.A,nrow=4,size=3)\n",
        "ax.set_title('Inferred dictionary')\n",
        "\n",
        "fig,ax = plt.subplots(figsize=(3,3))\n",
        "ax.plot(e)\n",
        "ax.set_xlabel('batch update')\n",
        "ax.set_ylabel('energy')"
      ]
    },
    {
      "cell_type": "code",
      "execution_count": 25,
      "metadata": {},
      "outputs": [
        {
          "data": {
            "text/plain": [
              "torch.Size([8])"
            ]
          },
          "execution_count": 25,
          "metadata": {},
          "output_type": "execute_result"
        }
      ],
      "source": [
        "lsc.A.norm(dim=0).shape"
      ]
    },
    {
      "cell_type": "code",
      "execution_count": null,
      "metadata": {},
      "outputs": [],
      "source": []
    }
  ],
  "metadata": {
    "colab": {
      "provenance": []
    },
    "kernelspec": {
      "display_name": "Python 3",
      "name": "python3"
    },
    "language_info": {
      "codemirror_mode": {
        "name": "ipython",
        "version": 3
      },
      "file_extension": ".py",
      "mimetype": "text/x-python",
      "name": "python",
      "nbconvert_exporter": "python",
      "pygments_lexer": "ipython3",
      "version": "3.10.9"
    }
  },
  "nbformat": 4,
  "nbformat_minor": 0
}
