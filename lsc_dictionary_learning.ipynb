{
  "nbformat": 4,
  "nbformat_minor": 0,
  "metadata": {
    "colab": {
      "provenance": []
    },
    "kernelspec": {
      "name": "python3",
      "display_name": "Python 3"
    },
    "language_info": {
      "name": "python"
    }
  },
  "cells": [
    {
      "cell_type": "code",
      "execution_count": 3,
      "metadata": {
        "id": "Bz9goSLVdtBX"
      },
      "outputs": [],
      "source": [
        "import torch\n",
        "import torchvision\n",
        "import numpy as np\n",
        "import matplotlib.pyplot as plt\n",
        "import matplotlib.cm as cm\n",
        "from tqdm import tqdm\n",
        "from lsc import LangevinSparseCoding"
      ]
    },
    {
      "cell_type": "code",
      "source": [
        "n_features = 4\n",
        "n_latent = 3\n",
        "sparsity_penalty = 1.\n",
        "var = 1/sparsity_penalty\n",
        "pi = 0.1\n",
        "s0 = -var * np.log(pi)\n",
        "temperature = 1\n",
        "dt = 1e-2\n",
        "mass = 1\n",
        "NOISE_MEAN, NOISE_STD = 0 , 1\n",
        "\n",
        "C = lambda s: s.abs().sum()\n",
        "Cprime = lambda s: torch.sign(s)\n",
        "\n",
        "lsc = LangevinSparseCoding(\n",
        "    n_features=n_features,\n",
        "    n_latent=n_latent,\n",
        "    sparsity_penaly=sparsity_penalty,\n",
        "    temperature=temperature,\n",
        "    dt=dt,\n",
        "    cost_function=C,\n",
        "    cost_function_grad=Cprime,\n",
        "    mass=mass,\n",
        "    gauss_std=NOISE_STD,\n",
        ")\n",
        "\n",
        "A = torch.tensor([[1., 1., -1.],\n",
        "                  [1., -0.1, -1.],\n",
        "                  [-1., 1., 1.],\n",
        "                  [1., -1., 1.]])\n",
        "\n",
        "lsc.A = A\n",
        "n_samples = int(1)\n",
        "distribution = torch.distributions.Laplace(0.0, var)\n",
        "s_star = distribution.sample(sample_shape=[n_samples,n_latent])\n",
        "tmax = int(1e4)\n",
        "epochs = 100\n",
        "for i in range(epochs):\n",
        "  x = (A@s_star.T).T + np.random.normal(NOISE_MEAN,NOISE_STD,size=)\n",
        "  s_inference = torch.zeros_like(s_star)\n",
        "  lsc.set_temperature(temperature = 0)\n",
        "  for n in tqdm(range(tmax)):\n",
        "      s_inference += lsc.first_order_langevin_update(x,s_inference) #Vanilla Gradient Descent\n",
        "  s_map = s_inference\n",
        "\n",
        "  lsc.set_temperature(temperature=1)\n",
        "  S = []\n",
        "  v = torch.zeros_like(s_star)\n",
        "  for n in tqdm(range(tmax)):\n",
        "      ds,dv = lsc.second_order_langevin_update(x,s_inference,v)\n",
        "      s_inference += torch.clone(ds)\n",
        "      v += torch.clone(dv)\n",
        "      S.append(s_inference.data.numpy().copy())\n",
        "  S = np.asarray(S)\n",
        "  lsc.A = lsc.A + dt * lsc.dictionary_grad(x,s_map)\n",
        "  lsc.normalize_dictionary()"
      ],
      "metadata": {
        "id": "2G54AVYsgHyY"
      },
      "execution_count": null,
      "outputs": []
    },
    {
      "cell_type": "code",
      "source": [
        "D_imgs = lsc.A\n",
        "grid_img = torchvision.utils.make_grid(D_imgs, nrow=2).cpu()\n",
        "\n",
        "fig, ax = plt.subplots(1, 2, figsize=(5, 5))\n",
        "ax = ax.flatten()\n",
        "ax[0].imshow(grid_img.permute(1, 2, 0))\n",
        "ax[0].set_axis_off()\n",
        "ax[0].set_title(\"Reconstructed Dictionary\")\n",
        "fig.set_size_inches(2, 2)\n",
        "fig.canvas.draw()\n",
        "\n",
        "D_imgs = A.div_(torch.norm(A, dim=1,keepdim=True))\n",
        "grid_img = torchvision.utils.make_grid(D_imgs, nrow=2).cpu()\n",
        "\n",
        "ax[1].imshow(grid_img.permute(1, 2, 0))\n",
        "ax[1].set_axis_off()\n",
        "ax[1].set_title(\"Original Dictionary\")\n",
        "fig.set_size_inches(5, 5)\n",
        "fig.canvas.draw()"
      ],
      "metadata": {
        "colab": {
          "base_uri": "https://localhost:8080/",
          "height": 349
        },
        "id": "TsX881flpTrx",
        "outputId": "ac078864-f681-4d15-c52b-780d50c02e69"
      },
      "execution_count": 10,
      "outputs": [
        {
          "output_type": "stream",
          "name": "stderr",
          "text": [
            "WARNING:matplotlib.image:Clipping input data to the valid range for imshow with RGB data ([0..1] for floats or [0..255] for integers).\n",
            "WARNING:matplotlib.image:Clipping input data to the valid range for imshow with RGB data ([0..1] for floats or [0..255] for integers).\n"
          ]
        },
        {
          "output_type": "display_data",
          "data": {
            "text/plain": [
              "<Figure size 500x500 with 2 Axes>"
            ],
            "image/png": "[encoded data removed]"
          },
          "metadata": {}
        }
      ]
    },
    {
      "cell_type": "code",
      "source": [],
      "metadata": {
        "id": "KIvu9MOBL3VK"
      },
      "execution_count": null,
      "outputs": []
    }
  ]
}